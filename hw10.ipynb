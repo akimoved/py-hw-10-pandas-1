{
 "cells": [
  {
   "cell_type": "markdown",
   "metadata": {},
   "source": [
    "# Homework 10"
   ]
  },
  {
   "cell_type": "code",
   "execution_count": 3,
   "metadata": {},
   "outputs": [],
   "source": [
    "import pandas as pd"
   ]
  },
  {
   "cell_type": "markdown",
   "metadata": {},
   "source": [
    "## Excercise 1"
   ]
  },
  {
   "cell_type": "code",
   "execution_count": 4,
   "metadata": {},
   "outputs": [],
   "source": [
    "ratings = pd.read_csv('src/ratings.csv')\n",
    "movies = pd.read_csv('src/movies.csv')"
   ]
  },
  {
   "cell_type": "code",
   "execution_count": 129,
   "metadata": {},
   "outputs": [
    {
     "data": {
      "text/plain": [
       "'Strawberry and Chocolate (Fresa y chocolate) (1993)'"
      ]
     },
     "execution_count": 129,
     "metadata": {},
     "output_type": "execute_result"
    }
   ],
   "source": [
    "def get_max_five_star_film():\n",
    "#     five_star = ratings[['movieId','rating']].query('rating == 5.0').value_counts() - возвращает series, из-за чего невозможно обратиться к movieId\n",
    "    \n",
    "    five_star = ratings[['movieId','rating']].query('rating == 5.0').groupby(['movieId']).agg({'rating':'count'}).sort_values('rating', ascending=False).join(movies)\n",
    "    return five_star['title'].iloc[0]\n",
    "    \n",
    "get_max_five_star_film()"
   ]
  },
  {
   "cell_type": "markdown",
   "metadata": {},
   "source": [
    "## Excercise 2"
   ]
  },
  {
   "cell_type": "code",
   "execution_count": 131,
   "metadata": {},
   "outputs": [],
   "source": [
    "power = pd.read_csv('src/power.csv')"
   ]
  },
  {
   "cell_type": "code",
   "execution_count": 132,
   "metadata": {},
   "outputs": [
    {
     "data": {
      "text/plain": [
       "240580.0"
      ]
     },
     "execution_count": 132,
     "metadata": {},
     "output_type": "execute_result"
    }
   ],
   "source": [
    "def baltic_group(country):\n",
    "    \n",
    "    if country in ['Latvia','Lithuania','Estonia']:\n",
    "        return 'Baltic'\n",
    "    else:\n",
    "        return 'Other'\n",
    "    \n",
    "power['baltic'] = power['country'].apply(baltic_group)\n",
    "round(power.query('baltic == \"Baltic\" & quantity >= 0 & 2005 <= year <= 2010 & (category  == 4 | category == 12 | category == 21)').quantity.sum(), 2)"
   ]
  },
  {
   "cell_type": "markdown",
   "metadata": {},
   "source": [
    "## Excercise 3"
   ]
  },
  {
   "cell_type": "code",
   "execution_count": 41,
   "metadata": {},
   "outputs": [],
   "source": [
    "power_cons_by_region = pd.read_html('http://www.gks.ru/free_doc/new_site/business/prom/el_potr.htm', skiprows=1, attrs={'width':'626'})[0]\n",
    "power_cons_by_region.rename({0:'region',1:'2008',2:'2009',3:'2010'}, axis='columns', inplace=True)"
   ]
  }
 ],
 "metadata": {
  "kernelspec": {
   "display_name": "Python 3",
   "language": "python",
   "name": "python3"
  },
  "language_info": {
   "codemirror_mode": {
    "name": "ipython",
    "version": 3
   },
   "file_extension": ".py",
   "mimetype": "text/x-python",
   "name": "python",
   "nbconvert_exporter": "python",
   "pygments_lexer": "ipython3",
   "version": "3.8.5"
  }
 },
 "nbformat": 4,
 "nbformat_minor": 4
}
